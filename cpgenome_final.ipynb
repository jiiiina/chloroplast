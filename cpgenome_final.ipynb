{
 "cells": [
  {
   "cell_type": "code",
   "execution_count": 2,
   "metadata": {},
   "outputs": [],
   "source": [
    "from Bio import SeqIO # pip3 install biopython\n",
    "import pandas as pd\n",
    "import glob\n",
    "import os\n",
    "import collections"
   ]
  },
  {
   "cell_type": "code",
   "execution_count": 20,
   "metadata": {},
   "outputs": [],
   "source": [
    "def gb_to_fasta(path_of_files):\n",
    "    df_cpgenome = pd.DataFrame()\n",
    "    # genebank parsing & extract protein sequence\n",
    "    for genbankfile in glob.glob(path_of_files):\n",
    "        dic = {}\n",
    "        IR  = []\n",
    "        recs = [rec for rec in SeqIO.parse(genbankfile,'genbank')]\n",
    "        for rec in recs:\n",
    "            feats = [feat for feat in rec.features if feat.type == 'CDS']\n",
    "            for feat in feats:\n",
    "                try:\n",
    "                    for gene in feat.qualifiers['gene']:\n",
    "                        if gene in dic:\n",
    "                            IR.append(gene)\n",
    "                        else:\n",
    "                            dic[gene] = str(feat.location.extract(parent_sequence = rec.seq).translate(table=11, to_stop=True))\n",
    "                except KeyError:\n",
    "                    pass\n",
    "        # delete IR gene in dic       \n",
    "        for IRgene in list(set(IR)):\n",
    "            del dic[IRgene]\n",
    "        # make dataframes\n",
    "        species = genbankfile.split('/')[2].split('.')[0] \n",
    "        df = pd.DataFrame.from_dict(dic, orient = 'index', columns = [species])\n",
    "        if len(df_cpgenome.index) == 0:\n",
    "            df_cpgenome = df_cpgenome.append(df)\n",
    "        else: # merge dataframes\n",
    "            df_cpgenome = pd.merge(df_cpgenome,df, left_index=True, right_index=True)\n",
    "    #return df_cpgenome\n",
    "    # make fasta file each of cpgene\n",
    "    for genename in list(df_cpgenome.index):\n",
    "        ofile = open('./gene_fasta_11species/'+genename+'.fasta','w')\n",
    "        for speciesname in df_cpgenome:\n",
    "            ofile.write('>' + speciesname + '\\n' + df_cpgenome[speciesname][genename] + '\\n')"
   ]
  },
  {
   "cell_type": "code",
   "execution_count": 22,
   "metadata": {},
   "outputs": [],
   "source": [
    "# prank.py\n",
    "for fastafile in glob.glob('./gene_fasta_11species/*.fasta'):\n",
    "    name = fastafile.split('/')[2].split('.')[0]\n",
    "    os.system('prank -d='+fastafile+' -o=./gene_fasta_prank_11species/'+name+'.fasta -f=fasta')"
   ]
  },
  {
   "cell_type": "code",
   "execution_count": 23,
   "metadata": {},
   "outputs": [],
   "source": [
    "# prottest.py -> terminal에서 돌려야 함\n",
    "\n",
    "for file in glob.glob('./gene_fasta_prank_11species/*.nex'):\n",
    "    #print(i)\n",
    "    gene = file.split('/')[2].split('.')[0] \n",
    "    #print(gene)\n",
    "    os.system('java -jar ../../../prottest-3.4.2/prottest-3.4.2.jar -i '+file+' -all-matrices -all-distributions -threads 2 > ./prottest_11species/'+gene+'.txt')"
   ]
  },
  {
   "cell_type": "code",
   "execution_count": 6,
   "metadata": {},
   "outputs": [
    {
     "data": {
      "text/plain": [
       "[('CpREV+I+G', 13),\n",
       " ('CpREV', 13),\n",
       " ('CpREV+G', 12),\n",
       " ('CpREV+I', 11),\n",
       " ('HIVb+I+G', 9),\n",
       " ('HIVb+I', 7),\n",
       " ('HIVb+G', 6),\n",
       " ('JTT+G', 4),\n",
       " ('HIVb', 4),\n",
       " ('MtArt+I+G', 3),\n",
       " ('JTT+I', 3),\n",
       " ('MtArt', 3),\n",
       " ('MtArt+I', 3),\n",
       " ('HIVw+I+G', 3),\n",
       " ('HIVw+G', 3),\n",
       " ('JTT+I+G', 2),\n",
       " ('JTT', 2),\n",
       " ('FLU', 2),\n",
       " ('MtMam+I', 2),\n",
       " ('MtMam', 2),\n",
       " ('FLU+G', 1),\n",
       " ('FLU+I+G', 1),\n",
       " ('HIVw', 1),\n",
       " ('WAG+I', 1),\n",
       " ('WAG+I+G', 1)]"
      ]
     },
     "execution_count": 6,
     "metadata": {},
     "output_type": "execute_result"
    }
   ],
   "source": [
    "# prottest 결과 정리\n",
    "\n",
    "prottest_list = []\n",
    "for i in glob.glob('./prottest_11species/*.txt'):\n",
    "    o = open(i)\n",
    "    r = o.read()\n",
    "    prottest_list.append(r.split('BIC: ')[1].split('\\n')[0])\n",
    "    prottest_list.append(r.split('LnL: ')[1].split('\\n')[0])\n",
    "\n",
    "b = collections.Counter(prottest_list).most_common()\n",
    "b"
   ]
  }
 ],
 "metadata": {
  "kernelspec": {
   "display_name": "Python 3",
   "language": "python",
   "name": "python3"
  },
  "language_info": {
   "codemirror_mode": {
    "name": "ipython",
    "version": 3
   },
   "file_extension": ".py",
   "mimetype": "text/x-python",
   "name": "python",
   "nbconvert_exporter": "python",
   "pygments_lexer": "ipython3",
   "version": "3.6.9"
  }
 },
 "nbformat": 4,
 "nbformat_minor": 4
}
